{
        "cells": [{
            "cell_type": "code",
            "source": ["1+2"],
            "outputs": [],
            "execution_count": 0,
            "metadata": {}
        }],
        "metadata": {
            "kernelspec": {
                "display_name": "Python 3",
                "language": "python",
                "name": "python3"
            },
            "language_info": {
                "codemirror_mode": {
                    "name": "ipython",
                    "version": 3
                },
                "file_extension": ".py",
                "mimetype": "text/x-python",
                "name": "python",
                "nbconvert_exporter": "python",
                "pygments_lexer": "ipython3",
                "version": "3.7.3"
            },
            "nteract": {
                "version": "nteract-front-end@1.0.0"
            }
        },
        "nbformat": 4,
        "nbformat_minor": 2
    }
}
